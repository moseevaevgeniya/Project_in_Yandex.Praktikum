{
 "cells": [
  {
   "cell_type": "markdown",
   "metadata": {},
   "source": [
    "# Финальный проект по SQL"
   ]
  },
  {
   "cell_type": "markdown",
   "metadata": {},
   "source": [
    "Коронавирус застал мир врасплох, изменив привычный порядок вещей.  \n",
    "В свободное время жители городов больше не выходят на улицу, не посещают кафе и торговые центры. Зато стало больше времени для книг. Это заметили стартаперы — и бросились создавать приложения для тех, кто любит читать.  \n",
    "\n",
    "Наша компания решила быть на волне и купила крупный сервис для чтения книг по подписке.  \n",
    "\n",
    "\n",
    "**Цель исследования:** в базе данных информация о книгах, издательствах, авторах, а также пользовательские обзоры книг.  \n",
    "Наша первая задача как аналитика — проанализировать базу данных. Эти данные помогут сформулировать ценностное предложение для нового продукта. \n",
    " \n",
    " **Задачи:**  \n",
    "1. Посчитать, сколько книг вышло после 1 января 2000 года;  \n",
    "2. Для каждой книги посчитать количество обзоров и среднюю оценку;  \n",
    "3. Определить издательство, которое выпустило наибольшее число книг толще 50 страниц — так вы исключите из анализа брошюры;  \n",
    "3. Определить автора с самой высокой средней оценкой книг — учитывайте только книги с 50 и более оценками;  \n",
    "4. Посчитать среднее количество обзоров от пользователей, которые поставили больше 50 оценок.  "
   ]
  },
  {
   "cell_type": "markdown",
   "metadata": {},
   "source": [
    "<a id='intro'></a>"
   ]
  },
  {
   "cell_type": "markdown",
   "metadata": {},
   "source": [
    "## Описание данных"
   ]
  },
  {
   "cell_type": "markdown",
   "metadata": {},
   "source": [
    "**Таблица** `books`  \n",
    "\n",
    "Содержит данные о книгах:  \n",
    "\n",
    "- `book_id` — идентификатор книги;  \n",
    "- `author_id` — идентификатор автора;  \n",
    "- `title` — название книги;  \n",
    "- `num_pages` — количество страниц;  \n",
    "- `publication_date` — дата публикации книги;  \n",
    "- `publisher_id` — идентификатор издателя.  \n",
    "\n",
    "**Таблица** `authors`  \n",
    "\n",
    "Содержит данные об авторах:  \n",
    "- `author_id` — идентификатор автора;  \n",
    "- `author` — имя автора.  \n",
    "\n",
    "**Таблица** `publishers`  \n",
    "\n",
    "Содержит данные об издательствах:  \n",
    "- `publisher_id` — идентификатор издательства;  \n",
    "- `publisher` — название издательства;  \n",
    "\n",
    "**Таблица** `ratings`  \n",
    "\n",
    "Содержит данные о пользовательских оценках книг:  \n",
    "- `rating_id` — идентификатор оценки;  \n",
    "- `book_id` — идентификатор книги;  \n",
    "- `username` — имя пользователя, оставившего оценку;  \n",
    "- `rating` — оценка книги.  \n",
    "\n",
    "**Таблица** `reviews`  \n",
    "\n",
    "Содержит данные о пользовательских обзорах:    \n",
    "- `review_id` — идентификатор обзора;  \n",
    "- `book_id` — идентификатор книги;  \n",
    "- `username` — имя автора обзора;  \n",
    "- `text` — текст обзора.  "
   ]
  },
  {
   "cell_type": "markdown",
   "metadata": {},
   "source": [
    "[Схема базы данных](https://disk.yandex.ru/i/xOI0GMFkUFJqqA)"
   ]
  },
  {
   "cell_type": "markdown",
   "metadata": {},
   "source": [
    "## Загрузка библиотек"
   ]
  },
  {
   "cell_type": "markdown",
   "metadata": {},
   "source": [
    "[Начало тетрадки](#intro)"
   ]
  },
  {
   "cell_type": "code",
   "execution_count": 1,
   "metadata": {},
   "outputs": [],
   "source": [
    "import pandas as pd\n",
    "from sqlalchemy import create_engine"
   ]
  },
  {
   "cell_type": "markdown",
   "metadata": {},
   "source": [
    "## Подключение к базе данных"
   ]
  },
  {
   "cell_type": "code",
   "execution_count": 2,
   "metadata": {},
   "outputs": [],
   "source": [
    "# устанавливаем параметры\n",
    "db_config = {'user': 'praktikum_student', # имя пользователя\n",
    "'pwd': 'Sdf4$2;d-d30pp', # пароль\n",
    "'host': 'rc1b-wcoijxj3yxfsf3fs.mdb.yandexcloud.net',\n",
    "'port': 6432, # порт подключения\n",
    "'db': 'data-analyst-final-project-db'} # название базы данных\n",
    "connection_string = 'postgresql://{}:{}@{}:{}/{}'.format(db_config['user'],\n",
    " db_config['pwd'],\n",
    " db_config['host'],\n",
    " db_config['port'],\n",
    " db_config['db'])\n",
    "# сохраняем коннектор\n",
    "engine = create_engine(connection_string, connect_args={'sslmode':'require'})"
   ]
  },
  {
   "cell_type": "markdown",
   "metadata": {},
   "source": [
    "## Выполнение SQL запроса и осмотр данных"
   ]
  },
  {
   "cell_type": "markdown",
   "metadata": {},
   "source": [
    "### Таблица `books`\n"
   ]
  },
  {
   "cell_type": "markdown",
   "metadata": {},
   "source": [
    "**Содержит данные о книгах:**   \n",
    "\n",
    "`book_id` — идентификатор книги;  \n",
    "`author_id` — идентификатор автора;  \n",
    "`title` — название книги;  \n",
    "`num_pages` — количество страниц;  \n",
    "`publication_date` — дата публикации книги;  \n",
    "`publisher_id` — идентификатор издателя.  "
   ]
  },
  {
   "cell_type": "code",
   "execution_count": 3,
   "metadata": {},
   "outputs": [],
   "source": [
    "query = '''\n",
    "SELECT \n",
    "    *\n",
    "FROM books\n",
    "'''"
   ]
  },
  {
   "cell_type": "code",
   "execution_count": 4,
   "metadata": {},
   "outputs": [
    {
     "data": {
      "text/html": [
       "<div>\n",
       "<style scoped>\n",
       "    .dataframe tbody tr th:only-of-type {\n",
       "        vertical-align: middle;\n",
       "    }\n",
       "\n",
       "    .dataframe tbody tr th {\n",
       "        vertical-align: top;\n",
       "    }\n",
       "\n",
       "    .dataframe thead th {\n",
       "        text-align: right;\n",
       "    }\n",
       "</style>\n",
       "<table border=\"1\" class=\"dataframe\">\n",
       "  <thead>\n",
       "    <tr style=\"text-align: right;\">\n",
       "      <th></th>\n",
       "      <th>book_id</th>\n",
       "      <th>author_id</th>\n",
       "      <th>title</th>\n",
       "      <th>num_pages</th>\n",
       "      <th>publication_date</th>\n",
       "      <th>publisher_id</th>\n",
       "    </tr>\n",
       "  </thead>\n",
       "  <tbody>\n",
       "    <tr>\n",
       "      <th>0</th>\n",
       "      <td>1</td>\n",
       "      <td>546</td>\n",
       "      <td>'Salem's Lot</td>\n",
       "      <td>594</td>\n",
       "      <td>2005-11-01</td>\n",
       "      <td>93</td>\n",
       "    </tr>\n",
       "    <tr>\n",
       "      <th>1</th>\n",
       "      <td>2</td>\n",
       "      <td>465</td>\n",
       "      <td>1 000 Places to See Before You Die</td>\n",
       "      <td>992</td>\n",
       "      <td>2003-05-22</td>\n",
       "      <td>336</td>\n",
       "    </tr>\n",
       "    <tr>\n",
       "      <th>2</th>\n",
       "      <td>3</td>\n",
       "      <td>407</td>\n",
       "      <td>13 Little Blue Envelopes (Little Blue Envelope...</td>\n",
       "      <td>322</td>\n",
       "      <td>2010-12-21</td>\n",
       "      <td>135</td>\n",
       "    </tr>\n",
       "    <tr>\n",
       "      <th>3</th>\n",
       "      <td>4</td>\n",
       "      <td>82</td>\n",
       "      <td>1491: New Revelations of the Americas Before C...</td>\n",
       "      <td>541</td>\n",
       "      <td>2006-10-10</td>\n",
       "      <td>309</td>\n",
       "    </tr>\n",
       "    <tr>\n",
       "      <th>4</th>\n",
       "      <td>5</td>\n",
       "      <td>125</td>\n",
       "      <td>1776</td>\n",
       "      <td>386</td>\n",
       "      <td>2006-07-04</td>\n",
       "      <td>268</td>\n",
       "    </tr>\n",
       "    <tr>\n",
       "      <th>...</th>\n",
       "      <td>...</td>\n",
       "      <td>...</td>\n",
       "      <td>...</td>\n",
       "      <td>...</td>\n",
       "      <td>...</td>\n",
       "      <td>...</td>\n",
       "    </tr>\n",
       "    <tr>\n",
       "      <th>995</th>\n",
       "      <td>996</td>\n",
       "      <td>571</td>\n",
       "      <td>Wyrd Sisters (Discworld  #6; Witches #2)</td>\n",
       "      <td>265</td>\n",
       "      <td>2001-02-06</td>\n",
       "      <td>147</td>\n",
       "    </tr>\n",
       "    <tr>\n",
       "      <th>996</th>\n",
       "      <td>997</td>\n",
       "      <td>454</td>\n",
       "      <td>Xenocide (Ender's Saga  #3)</td>\n",
       "      <td>592</td>\n",
       "      <td>1996-07-15</td>\n",
       "      <td>297</td>\n",
       "    </tr>\n",
       "    <tr>\n",
       "      <th>997</th>\n",
       "      <td>998</td>\n",
       "      <td>201</td>\n",
       "      <td>Year of Wonders</td>\n",
       "      <td>358</td>\n",
       "      <td>2002-04-30</td>\n",
       "      <td>212</td>\n",
       "    </tr>\n",
       "    <tr>\n",
       "      <th>998</th>\n",
       "      <td>999</td>\n",
       "      <td>94</td>\n",
       "      <td>You Suck (A Love Story  #2)</td>\n",
       "      <td>328</td>\n",
       "      <td>2007-01-16</td>\n",
       "      <td>331</td>\n",
       "    </tr>\n",
       "    <tr>\n",
       "      <th>999</th>\n",
       "      <td>1000</td>\n",
       "      <td>509</td>\n",
       "      <td>Zen and the Art of Motorcycle Maintenance: An ...</td>\n",
       "      <td>540</td>\n",
       "      <td>2006-04-25</td>\n",
       "      <td>143</td>\n",
       "    </tr>\n",
       "  </tbody>\n",
       "</table>\n",
       "<p>1000 rows × 6 columns</p>\n",
       "</div>"
      ],
      "text/plain": [
       "     book_id  author_id                                              title  \\\n",
       "0          1        546                                       'Salem's Lot   \n",
       "1          2        465                 1 000 Places to See Before You Die   \n",
       "2          3        407  13 Little Blue Envelopes (Little Blue Envelope...   \n",
       "3          4         82  1491: New Revelations of the Americas Before C...   \n",
       "4          5        125                                               1776   \n",
       "..       ...        ...                                                ...   \n",
       "995      996        571           Wyrd Sisters (Discworld  #6; Witches #2)   \n",
       "996      997        454                        Xenocide (Ender's Saga  #3)   \n",
       "997      998        201                                    Year of Wonders   \n",
       "998      999         94                        You Suck (A Love Story  #2)   \n",
       "999     1000        509  Zen and the Art of Motorcycle Maintenance: An ...   \n",
       "\n",
       "     num_pages publication_date  publisher_id  \n",
       "0          594       2005-11-01            93  \n",
       "1          992       2003-05-22           336  \n",
       "2          322       2010-12-21           135  \n",
       "3          541       2006-10-10           309  \n",
       "4          386       2006-07-04           268  \n",
       "..         ...              ...           ...  \n",
       "995        265       2001-02-06           147  \n",
       "996        592       1996-07-15           297  \n",
       "997        358       2002-04-30           212  \n",
       "998        328       2007-01-16           331  \n",
       "999        540       2006-04-25           143  \n",
       "\n",
       "[1000 rows x 6 columns]"
      ]
     },
     "execution_count": 4,
     "metadata": {},
     "output_type": "execute_result"
    }
   ],
   "source": [
    "pd.io.sql.read_sql(query, con = engine) "
   ]
  },
  {
   "cell_type": "markdown",
   "metadata": {},
   "source": [
    "В базе данных находится информация о 1000 ед. книг.  "
   ]
  },
  {
   "cell_type": "markdown",
   "metadata": {},
   "source": [
    "[Начало тетрадки](#intro)"
   ]
  },
  {
   "cell_type": "markdown",
   "metadata": {},
   "source": [
    "### Таблица `authors`"
   ]
  },
  {
   "cell_type": "markdown",
   "metadata": {},
   "source": [
    "**Содержит данные об авторах:**  \n",
    "\n",
    "`author_id` — идентификатор автора;  \n",
    "`author` — имя автора.  "
   ]
  },
  {
   "cell_type": "code",
   "execution_count": 5,
   "metadata": {},
   "outputs": [],
   "source": [
    "query = '''\n",
    "SELECT \n",
    "    author_id,\n",
    "    author\n",
    "FROM authors\n",
    "'''"
   ]
  },
  {
   "cell_type": "code",
   "execution_count": 6,
   "metadata": {},
   "outputs": [
    {
     "data": {
      "text/html": [
       "<div>\n",
       "<style scoped>\n",
       "    .dataframe tbody tr th:only-of-type {\n",
       "        vertical-align: middle;\n",
       "    }\n",
       "\n",
       "    .dataframe tbody tr th {\n",
       "        vertical-align: top;\n",
       "    }\n",
       "\n",
       "    .dataframe thead th {\n",
       "        text-align: right;\n",
       "    }\n",
       "</style>\n",
       "<table border=\"1\" class=\"dataframe\">\n",
       "  <thead>\n",
       "    <tr style=\"text-align: right;\">\n",
       "      <th></th>\n",
       "      <th>author_id</th>\n",
       "      <th>author</th>\n",
       "    </tr>\n",
       "  </thead>\n",
       "  <tbody>\n",
       "    <tr>\n",
       "      <th>0</th>\n",
       "      <td>1</td>\n",
       "      <td>A.S. Byatt</td>\n",
       "    </tr>\n",
       "    <tr>\n",
       "      <th>1</th>\n",
       "      <td>2</td>\n",
       "      <td>Aesop/Laura Harris/Laura Gibbs</td>\n",
       "    </tr>\n",
       "    <tr>\n",
       "      <th>2</th>\n",
       "      <td>3</td>\n",
       "      <td>Agatha Christie</td>\n",
       "    </tr>\n",
       "    <tr>\n",
       "      <th>3</th>\n",
       "      <td>4</td>\n",
       "      <td>Alan Brennert</td>\n",
       "    </tr>\n",
       "    <tr>\n",
       "      <th>4</th>\n",
       "      <td>5</td>\n",
       "      <td>Alan Moore/David   Lloyd</td>\n",
       "    </tr>\n",
       "    <tr>\n",
       "      <th>...</th>\n",
       "      <td>...</td>\n",
       "      <td>...</td>\n",
       "    </tr>\n",
       "    <tr>\n",
       "      <th>631</th>\n",
       "      <td>632</td>\n",
       "      <td>William Strunk Jr./E.B. White</td>\n",
       "    </tr>\n",
       "    <tr>\n",
       "      <th>632</th>\n",
       "      <td>633</td>\n",
       "      <td>Zadie Smith</td>\n",
       "    </tr>\n",
       "    <tr>\n",
       "      <th>633</th>\n",
       "      <td>634</td>\n",
       "      <td>Zilpha Keatley Snyder</td>\n",
       "    </tr>\n",
       "    <tr>\n",
       "      <th>634</th>\n",
       "      <td>635</td>\n",
       "      <td>Zora Neale Hurston</td>\n",
       "    </tr>\n",
       "    <tr>\n",
       "      <th>635</th>\n",
       "      <td>636</td>\n",
       "      <td>Åsne Seierstad/Ingrid Christopherson</td>\n",
       "    </tr>\n",
       "  </tbody>\n",
       "</table>\n",
       "<p>636 rows × 2 columns</p>\n",
       "</div>"
      ],
      "text/plain": [
       "     author_id                                author\n",
       "0            1                            A.S. Byatt\n",
       "1            2        Aesop/Laura Harris/Laura Gibbs\n",
       "2            3                       Agatha Christie\n",
       "3            4                         Alan Brennert\n",
       "4            5              Alan Moore/David   Lloyd\n",
       "..         ...                                   ...\n",
       "631        632         William Strunk Jr./E.B. White\n",
       "632        633                           Zadie Smith\n",
       "633        634                 Zilpha Keatley Snyder\n",
       "634        635                    Zora Neale Hurston\n",
       "635        636  Åsne Seierstad/Ingrid Christopherson\n",
       "\n",
       "[636 rows x 2 columns]"
      ]
     },
     "execution_count": 6,
     "metadata": {},
     "output_type": "execute_result"
    }
   ],
   "source": [
    "pd.io.sql.read_sql(query, con = engine) "
   ]
  },
  {
   "cell_type": "markdown",
   "metadata": {},
   "source": [
    "В базе данных содержится информация о 636 авторах книг."
   ]
  },
  {
   "cell_type": "markdown",
   "metadata": {},
   "source": [
    "### Таблица `publishers`"
   ]
  },
  {
   "cell_type": "markdown",
   "metadata": {},
   "source": [
    "**Содержит данные об издательствах:**  \n",
    "\n",
    "`publisher_id` — идентификатор издательства;  \n",
    "`publisher` — название издательства;  "
   ]
  },
  {
   "cell_type": "code",
   "execution_count": 7,
   "metadata": {},
   "outputs": [],
   "source": [
    "query = '''\n",
    "SELECT \n",
    "    *\n",
    "FROM publishers\n",
    "'''"
   ]
  },
  {
   "cell_type": "code",
   "execution_count": 8,
   "metadata": {},
   "outputs": [
    {
     "data": {
      "text/html": [
       "<div>\n",
       "<style scoped>\n",
       "    .dataframe tbody tr th:only-of-type {\n",
       "        vertical-align: middle;\n",
       "    }\n",
       "\n",
       "    .dataframe tbody tr th {\n",
       "        vertical-align: top;\n",
       "    }\n",
       "\n",
       "    .dataframe thead th {\n",
       "        text-align: right;\n",
       "    }\n",
       "</style>\n",
       "<table border=\"1\" class=\"dataframe\">\n",
       "  <thead>\n",
       "    <tr style=\"text-align: right;\">\n",
       "      <th></th>\n",
       "      <th>publisher_id</th>\n",
       "      <th>publisher</th>\n",
       "    </tr>\n",
       "  </thead>\n",
       "  <tbody>\n",
       "    <tr>\n",
       "      <th>0</th>\n",
       "      <td>1</td>\n",
       "      <td>Ace</td>\n",
       "    </tr>\n",
       "    <tr>\n",
       "      <th>1</th>\n",
       "      <td>2</td>\n",
       "      <td>Ace Book</td>\n",
       "    </tr>\n",
       "    <tr>\n",
       "      <th>2</th>\n",
       "      <td>3</td>\n",
       "      <td>Ace Books</td>\n",
       "    </tr>\n",
       "    <tr>\n",
       "      <th>3</th>\n",
       "      <td>4</td>\n",
       "      <td>Ace Hardcover</td>\n",
       "    </tr>\n",
       "    <tr>\n",
       "      <th>4</th>\n",
       "      <td>5</td>\n",
       "      <td>Addison Wesley Publishing Company</td>\n",
       "    </tr>\n",
       "    <tr>\n",
       "      <th>...</th>\n",
       "      <td>...</td>\n",
       "      <td>...</td>\n",
       "    </tr>\n",
       "    <tr>\n",
       "      <th>335</th>\n",
       "      <td>336</td>\n",
       "      <td>Workman Publishing Company</td>\n",
       "    </tr>\n",
       "    <tr>\n",
       "      <th>336</th>\n",
       "      <td>337</td>\n",
       "      <td>Wyatt Book</td>\n",
       "    </tr>\n",
       "    <tr>\n",
       "      <th>337</th>\n",
       "      <td>338</td>\n",
       "      <td>Yale University Press</td>\n",
       "    </tr>\n",
       "    <tr>\n",
       "      <th>338</th>\n",
       "      <td>339</td>\n",
       "      <td>Yearling</td>\n",
       "    </tr>\n",
       "    <tr>\n",
       "      <th>339</th>\n",
       "      <td>340</td>\n",
       "      <td>Yearling Books</td>\n",
       "    </tr>\n",
       "  </tbody>\n",
       "</table>\n",
       "<p>340 rows × 2 columns</p>\n",
       "</div>"
      ],
      "text/plain": [
       "     publisher_id                          publisher\n",
       "0               1                                Ace\n",
       "1               2                           Ace Book\n",
       "2               3                          Ace Books\n",
       "3               4                      Ace Hardcover\n",
       "4               5  Addison Wesley Publishing Company\n",
       "..            ...                                ...\n",
       "335           336         Workman Publishing Company\n",
       "336           337                         Wyatt Book\n",
       "337           338              Yale University Press\n",
       "338           339                           Yearling\n",
       "339           340                     Yearling Books\n",
       "\n",
       "[340 rows x 2 columns]"
      ]
     },
     "execution_count": 8,
     "metadata": {},
     "output_type": "execute_result"
    }
   ],
   "source": [
    "pd.io.sql.read_sql(query, con = engine) "
   ]
  },
  {
   "cell_type": "markdown",
   "metadata": {},
   "source": [
    "В базе данных содержится информация о 340 издательствах."
   ]
  },
  {
   "cell_type": "markdown",
   "metadata": {},
   "source": [
    "### Таблица `ratings`"
   ]
  },
  {
   "cell_type": "markdown",
   "metadata": {},
   "source": [
    "**Содержит данные о пользовательских оценках книг:**  \n",
    "\n",
    "`rating_id` — идентификатор оценки;  \n",
    "`book_id` — идентификатор книги;  \n",
    "`username` — имя пользователя, оставившего оценку;  \n",
    "`rating` — оценка книги.  "
   ]
  },
  {
   "cell_type": "code",
   "execution_count": 9,
   "metadata": {},
   "outputs": [],
   "source": [
    "query = '''\n",
    "SELECT \n",
    "    *\n",
    "FROM ratings\n",
    "'''"
   ]
  },
  {
   "cell_type": "code",
   "execution_count": 10,
   "metadata": {},
   "outputs": [
    {
     "data": {
      "text/html": [
       "<div>\n",
       "<style scoped>\n",
       "    .dataframe tbody tr th:only-of-type {\n",
       "        vertical-align: middle;\n",
       "    }\n",
       "\n",
       "    .dataframe tbody tr th {\n",
       "        vertical-align: top;\n",
       "    }\n",
       "\n",
       "    .dataframe thead th {\n",
       "        text-align: right;\n",
       "    }\n",
       "</style>\n",
       "<table border=\"1\" class=\"dataframe\">\n",
       "  <thead>\n",
       "    <tr style=\"text-align: right;\">\n",
       "      <th></th>\n",
       "      <th>rating_id</th>\n",
       "      <th>book_id</th>\n",
       "      <th>username</th>\n",
       "      <th>rating</th>\n",
       "    </tr>\n",
       "  </thead>\n",
       "  <tbody>\n",
       "    <tr>\n",
       "      <th>0</th>\n",
       "      <td>1</td>\n",
       "      <td>1</td>\n",
       "      <td>ryanfranco</td>\n",
       "      <td>4</td>\n",
       "    </tr>\n",
       "    <tr>\n",
       "      <th>1</th>\n",
       "      <td>2</td>\n",
       "      <td>1</td>\n",
       "      <td>grantpatricia</td>\n",
       "      <td>2</td>\n",
       "    </tr>\n",
       "    <tr>\n",
       "      <th>2</th>\n",
       "      <td>3</td>\n",
       "      <td>1</td>\n",
       "      <td>brandtandrea</td>\n",
       "      <td>5</td>\n",
       "    </tr>\n",
       "    <tr>\n",
       "      <th>3</th>\n",
       "      <td>4</td>\n",
       "      <td>2</td>\n",
       "      <td>lorichen</td>\n",
       "      <td>3</td>\n",
       "    </tr>\n",
       "    <tr>\n",
       "      <th>4</th>\n",
       "      <td>5</td>\n",
       "      <td>2</td>\n",
       "      <td>mariokeller</td>\n",
       "      <td>2</td>\n",
       "    </tr>\n",
       "    <tr>\n",
       "      <th>...</th>\n",
       "      <td>...</td>\n",
       "      <td>...</td>\n",
       "      <td>...</td>\n",
       "      <td>...</td>\n",
       "    </tr>\n",
       "    <tr>\n",
       "      <th>6451</th>\n",
       "      <td>6452</td>\n",
       "      <td>1000</td>\n",
       "      <td>carolrodriguez</td>\n",
       "      <td>4</td>\n",
       "    </tr>\n",
       "    <tr>\n",
       "      <th>6452</th>\n",
       "      <td>6453</td>\n",
       "      <td>1000</td>\n",
       "      <td>wendy18</td>\n",
       "      <td>4</td>\n",
       "    </tr>\n",
       "    <tr>\n",
       "      <th>6453</th>\n",
       "      <td>6454</td>\n",
       "      <td>1000</td>\n",
       "      <td>jarvispaul</td>\n",
       "      <td>5</td>\n",
       "    </tr>\n",
       "    <tr>\n",
       "      <th>6454</th>\n",
       "      <td>6455</td>\n",
       "      <td>1000</td>\n",
       "      <td>zross</td>\n",
       "      <td>2</td>\n",
       "    </tr>\n",
       "    <tr>\n",
       "      <th>6455</th>\n",
       "      <td>6456</td>\n",
       "      <td>1000</td>\n",
       "      <td>fharris</td>\n",
       "      <td>5</td>\n",
       "    </tr>\n",
       "  </tbody>\n",
       "</table>\n",
       "<p>6456 rows × 4 columns</p>\n",
       "</div>"
      ],
      "text/plain": [
       "      rating_id  book_id        username  rating\n",
       "0             1        1      ryanfranco       4\n",
       "1             2        1   grantpatricia       2\n",
       "2             3        1    brandtandrea       5\n",
       "3             4        2        lorichen       3\n",
       "4             5        2     mariokeller       2\n",
       "...         ...      ...             ...     ...\n",
       "6451       6452     1000  carolrodriguez       4\n",
       "6452       6453     1000         wendy18       4\n",
       "6453       6454     1000      jarvispaul       5\n",
       "6454       6455     1000           zross       2\n",
       "6455       6456     1000         fharris       5\n",
       "\n",
       "[6456 rows x 4 columns]"
      ]
     },
     "execution_count": 10,
     "metadata": {},
     "output_type": "execute_result"
    }
   ],
   "source": [
    "pd.io.sql.read_sql(query, con = engine) "
   ]
  },
  {
   "cell_type": "markdown",
   "metadata": {},
   "source": [
    "В базе данных содержится информация о 6456 оценках книг."
   ]
  },
  {
   "cell_type": "markdown",
   "metadata": {},
   "source": [
    "### Таблица `reviews`"
   ]
  },
  {
   "cell_type": "markdown",
   "metadata": {},
   "source": [
    "**Содержит данные о пользовательских обзорах на книги:**  \n",
    "\n",
    "`review_id` — идентификатор обзора;  \n",
    "`book_id` — идентификатор книги;  \n",
    "`username` — имя пользователя, написавшего обзор;  \n",
    "`text` — текст обзора.  "
   ]
  },
  {
   "cell_type": "code",
   "execution_count": 11,
   "metadata": {},
   "outputs": [],
   "source": [
    "query = '''\n",
    "SELECT \n",
    "    *\n",
    "FROM reviews\n",
    "'''"
   ]
  },
  {
   "cell_type": "code",
   "execution_count": 12,
   "metadata": {},
   "outputs": [
    {
     "data": {
      "text/html": [
       "<div>\n",
       "<style scoped>\n",
       "    .dataframe tbody tr th:only-of-type {\n",
       "        vertical-align: middle;\n",
       "    }\n",
       "\n",
       "    .dataframe tbody tr th {\n",
       "        vertical-align: top;\n",
       "    }\n",
       "\n",
       "    .dataframe thead th {\n",
       "        text-align: right;\n",
       "    }\n",
       "</style>\n",
       "<table border=\"1\" class=\"dataframe\">\n",
       "  <thead>\n",
       "    <tr style=\"text-align: right;\">\n",
       "      <th></th>\n",
       "      <th>review_id</th>\n",
       "      <th>book_id</th>\n",
       "      <th>username</th>\n",
       "      <th>text</th>\n",
       "    </tr>\n",
       "  </thead>\n",
       "  <tbody>\n",
       "    <tr>\n",
       "      <th>0</th>\n",
       "      <td>1</td>\n",
       "      <td>1</td>\n",
       "      <td>brandtandrea</td>\n",
       "      <td>Mention society tell send professor analysis. ...</td>\n",
       "    </tr>\n",
       "    <tr>\n",
       "      <th>1</th>\n",
       "      <td>2</td>\n",
       "      <td>1</td>\n",
       "      <td>ryanfranco</td>\n",
       "      <td>Foot glass pretty audience hit themselves. Amo...</td>\n",
       "    </tr>\n",
       "    <tr>\n",
       "      <th>2</th>\n",
       "      <td>3</td>\n",
       "      <td>2</td>\n",
       "      <td>lorichen</td>\n",
       "      <td>Listen treat keep worry. Miss husband tax but ...</td>\n",
       "    </tr>\n",
       "    <tr>\n",
       "      <th>3</th>\n",
       "      <td>4</td>\n",
       "      <td>3</td>\n",
       "      <td>johnsonamanda</td>\n",
       "      <td>Finally month interesting blue could nature cu...</td>\n",
       "    </tr>\n",
       "    <tr>\n",
       "      <th>4</th>\n",
       "      <td>5</td>\n",
       "      <td>3</td>\n",
       "      <td>scotttamara</td>\n",
       "      <td>Nation purpose heavy give wait song will. List...</td>\n",
       "    </tr>\n",
       "    <tr>\n",
       "      <th>...</th>\n",
       "      <td>...</td>\n",
       "      <td>...</td>\n",
       "      <td>...</td>\n",
       "      <td>...</td>\n",
       "    </tr>\n",
       "    <tr>\n",
       "      <th>2788</th>\n",
       "      <td>2789</td>\n",
       "      <td>999</td>\n",
       "      <td>martinadam</td>\n",
       "      <td>Later hospital turn easy community. Fact same ...</td>\n",
       "    </tr>\n",
       "    <tr>\n",
       "      <th>2789</th>\n",
       "      <td>2790</td>\n",
       "      <td>1000</td>\n",
       "      <td>wknight</td>\n",
       "      <td>Change lose answer close pressure. Spend so now.</td>\n",
       "    </tr>\n",
       "    <tr>\n",
       "      <th>2790</th>\n",
       "      <td>2791</td>\n",
       "      <td>1000</td>\n",
       "      <td>carolrodriguez</td>\n",
       "      <td>Authority go who television entire hair guy po...</td>\n",
       "    </tr>\n",
       "    <tr>\n",
       "      <th>2791</th>\n",
       "      <td>2792</td>\n",
       "      <td>1000</td>\n",
       "      <td>wendy18</td>\n",
       "      <td>Or western offer wonder ask. More hear phone f...</td>\n",
       "    </tr>\n",
       "    <tr>\n",
       "      <th>2792</th>\n",
       "      <td>2793</td>\n",
       "      <td>1000</td>\n",
       "      <td>jarvispaul</td>\n",
       "      <td>Republican staff bit eat material measure plan...</td>\n",
       "    </tr>\n",
       "  </tbody>\n",
       "</table>\n",
       "<p>2793 rows × 4 columns</p>\n",
       "</div>"
      ],
      "text/plain": [
       "      review_id  book_id        username  \\\n",
       "0             1        1    brandtandrea   \n",
       "1             2        1      ryanfranco   \n",
       "2             3        2        lorichen   \n",
       "3             4        3   johnsonamanda   \n",
       "4             5        3     scotttamara   \n",
       "...         ...      ...             ...   \n",
       "2788       2789      999      martinadam   \n",
       "2789       2790     1000         wknight   \n",
       "2790       2791     1000  carolrodriguez   \n",
       "2791       2792     1000         wendy18   \n",
       "2792       2793     1000      jarvispaul   \n",
       "\n",
       "                                                   text  \n",
       "0     Mention society tell send professor analysis. ...  \n",
       "1     Foot glass pretty audience hit themselves. Amo...  \n",
       "2     Listen treat keep worry. Miss husband tax but ...  \n",
       "3     Finally month interesting blue could nature cu...  \n",
       "4     Nation purpose heavy give wait song will. List...  \n",
       "...                                                 ...  \n",
       "2788  Later hospital turn easy community. Fact same ...  \n",
       "2789   Change lose answer close pressure. Spend so now.  \n",
       "2790  Authority go who television entire hair guy po...  \n",
       "2791  Or western offer wonder ask. More hear phone f...  \n",
       "2792  Republican staff bit eat material measure plan...  \n",
       "\n",
       "[2793 rows x 4 columns]"
      ]
     },
     "execution_count": 12,
     "metadata": {},
     "output_type": "execute_result"
    }
   ],
   "source": [
    "pd.io.sql.read_sql(query, con = engine) "
   ]
  },
  {
   "cell_type": "markdown",
   "metadata": {},
   "source": [
    "В базе данных находится информация о 2793 ревью на книги."
   ]
  },
  {
   "cell_type": "markdown",
   "metadata": {},
   "source": [
    "## Выполнение заданий"
   ]
  },
  {
   "cell_type": "markdown",
   "metadata": {},
   "source": [
    "### Посчитаем, сколько книг вышло после 1 января 2000 года?"
   ]
  },
  {
   "cell_type": "code",
   "execution_count": 13,
   "metadata": {},
   "outputs": [],
   "source": [
    "query = '''\n",
    "SELECT \n",
    "    COUNT(*) AS book_count\n",
    "FROM \n",
    "    books\n",
    "WHERE\n",
    "    publication_date > '2000-01-01'\n",
    "'''"
   ]
  },
  {
   "cell_type": "code",
   "execution_count": 14,
   "metadata": {},
   "outputs": [
    {
     "data": {
      "text/html": [
       "<div>\n",
       "<style scoped>\n",
       "    .dataframe tbody tr th:only-of-type {\n",
       "        vertical-align: middle;\n",
       "    }\n",
       "\n",
       "    .dataframe tbody tr th {\n",
       "        vertical-align: top;\n",
       "    }\n",
       "\n",
       "    .dataframe thead th {\n",
       "        text-align: right;\n",
       "    }\n",
       "</style>\n",
       "<table border=\"1\" class=\"dataframe\">\n",
       "  <thead>\n",
       "    <tr style=\"text-align: right;\">\n",
       "      <th></th>\n",
       "      <th>book_count</th>\n",
       "    </tr>\n",
       "  </thead>\n",
       "  <tbody>\n",
       "    <tr>\n",
       "      <th>0</th>\n",
       "      <td>819</td>\n",
       "    </tr>\n",
       "  </tbody>\n",
       "</table>\n",
       "</div>"
      ],
      "text/plain": [
       "   book_count\n",
       "0         819"
      ]
     },
     "execution_count": 14,
     "metadata": {},
     "output_type": "execute_result"
    }
   ],
   "source": [
    "pd.io.sql.read_sql(query, con = engine)"
   ]
  },
  {
   "cell_type": "markdown",
   "metadata": {},
   "source": [
    "**Вывод:**  \n",
    "После 1 января 2000 года вышло книг 819 ед."
   ]
  },
  {
   "cell_type": "markdown",
   "metadata": {},
   "source": [
    "### Для каждой книги посчитаем количество обзоров и среднюю оценку"
   ]
  },
  {
   "cell_type": "markdown",
   "metadata": {},
   "source": [
    "Для каждой книги посчитаем количество обзоров и средний рейтинг, сортируем по количеству обзоров:"
   ]
  },
  {
   "cell_type": "code",
   "execution_count": 15,
   "metadata": {},
   "outputs": [
    {
     "data": {
      "text/html": [
       "<div>\n",
       "<style scoped>\n",
       "    .dataframe tbody tr th:only-of-type {\n",
       "        vertical-align: middle;\n",
       "    }\n",
       "\n",
       "    .dataframe tbody tr th {\n",
       "        vertical-align: top;\n",
       "    }\n",
       "\n",
       "    .dataframe thead th {\n",
       "        text-align: right;\n",
       "    }\n",
       "</style>\n",
       "<table border=\"1\" class=\"dataframe\">\n",
       "  <thead>\n",
       "    <tr style=\"text-align: right;\">\n",
       "      <th></th>\n",
       "      <th>book_id</th>\n",
       "      <th>total_reviews</th>\n",
       "      <th>mean_rating</th>\n",
       "    </tr>\n",
       "  </thead>\n",
       "  <tbody>\n",
       "    <tr>\n",
       "      <th>0</th>\n",
       "      <td>948</td>\n",
       "      <td>7</td>\n",
       "      <td>3.662500</td>\n",
       "    </tr>\n",
       "    <tr>\n",
       "      <th>1</th>\n",
       "      <td>695</td>\n",
       "      <td>6</td>\n",
       "      <td>4.081081</td>\n",
       "    </tr>\n",
       "    <tr>\n",
       "      <th>2</th>\n",
       "      <td>299</td>\n",
       "      <td>6</td>\n",
       "      <td>4.287500</td>\n",
       "    </tr>\n",
       "    <tr>\n",
       "      <th>3</th>\n",
       "      <td>696</td>\n",
       "      <td>6</td>\n",
       "      <td>3.830508</td>\n",
       "    </tr>\n",
       "    <tr>\n",
       "      <th>4</th>\n",
       "      <td>734</td>\n",
       "      <td>6</td>\n",
       "      <td>4.206897</td>\n",
       "    </tr>\n",
       "    <tr>\n",
       "      <th>...</th>\n",
       "      <td>...</td>\n",
       "      <td>...</td>\n",
       "      <td>...</td>\n",
       "    </tr>\n",
       "    <tr>\n",
       "      <th>995</th>\n",
       "      <td>672</td>\n",
       "      <td>0</td>\n",
       "      <td>5.000000</td>\n",
       "    </tr>\n",
       "    <tr>\n",
       "      <th>996</th>\n",
       "      <td>808</td>\n",
       "      <td>0</td>\n",
       "      <td>3.000000</td>\n",
       "    </tr>\n",
       "    <tr>\n",
       "      <th>997</th>\n",
       "      <td>221</td>\n",
       "      <td>0</td>\n",
       "      <td>4.000000</td>\n",
       "    </tr>\n",
       "    <tr>\n",
       "      <th>998</th>\n",
       "      <td>387</td>\n",
       "      <td>0</td>\n",
       "      <td>4.000000</td>\n",
       "    </tr>\n",
       "    <tr>\n",
       "      <th>999</th>\n",
       "      <td>83</td>\n",
       "      <td>0</td>\n",
       "      <td>3.666667</td>\n",
       "    </tr>\n",
       "  </tbody>\n",
       "</table>\n",
       "<p>1000 rows × 3 columns</p>\n",
       "</div>"
      ],
      "text/plain": [
       "     book_id  total_reviews  mean_rating\n",
       "0        948              7     3.662500\n",
       "1        695              6     4.081081\n",
       "2        299              6     4.287500\n",
       "3        696              6     3.830508\n",
       "4        734              6     4.206897\n",
       "..       ...            ...          ...\n",
       "995      672              0     5.000000\n",
       "996      808              0     3.000000\n",
       "997      221              0     4.000000\n",
       "998      387              0     4.000000\n",
       "999       83              0     3.666667\n",
       "\n",
       "[1000 rows x 3 columns]"
      ]
     },
     "execution_count": 15,
     "metadata": {},
     "output_type": "execute_result"
    }
   ],
   "source": [
    "query = '''\n",
    "\n",
    "SELECT\n",
    "     ratings.book_id AS book_id,\n",
    "     COUNT(reviews.text) AS total_reviews,\n",
    "     AVG(ratings.rating) AS mean_rating\n",
    "FROM\n",
    "    ratings\n",
    "LEFT JOIN reviews ON \n",
    "   (reviews.book_id = ratings.book_id\n",
    "    AND reviews.username = ratings.username)\n",
    "GROUP BY \n",
    "      ratings.book_id\n",
    "ORDER BY \n",
    "    total_reviews DESC\n",
    "'''\n",
    "pd.io.sql.read_sql(query, con = engine)"
   ]
  },
  {
   "cell_type": "markdown",
   "metadata": {},
   "source": [
    "**Вывод** Так то лучше, все книги вошли в обзор. Масимальное количество обзоров получилось 7. "
   ]
  },
  {
   "cell_type": "markdown",
   "metadata": {},
   "source": [
    "Для каждой книги посчитаем количество обзоров и средний рейтинг, сортируем по рейтингу:"
   ]
  },
  {
   "cell_type": "code",
   "execution_count": 16,
   "metadata": {},
   "outputs": [
    {
     "data": {
      "text/html": [
       "<div>\n",
       "<style scoped>\n",
       "    .dataframe tbody tr th:only-of-type {\n",
       "        vertical-align: middle;\n",
       "    }\n",
       "\n",
       "    .dataframe tbody tr th {\n",
       "        vertical-align: top;\n",
       "    }\n",
       "\n",
       "    .dataframe thead th {\n",
       "        text-align: right;\n",
       "    }\n",
       "</style>\n",
       "<table border=\"1\" class=\"dataframe\">\n",
       "  <thead>\n",
       "    <tr style=\"text-align: right;\">\n",
       "      <th></th>\n",
       "      <th>book_id</th>\n",
       "      <th>total_reviews</th>\n",
       "      <th>mean_rating</th>\n",
       "    </tr>\n",
       "  </thead>\n",
       "  <tbody>\n",
       "    <tr>\n",
       "      <th>0</th>\n",
       "      <td>518</td>\n",
       "      <td>2</td>\n",
       "      <td>5.00</td>\n",
       "    </tr>\n",
       "    <tr>\n",
       "      <th>1</th>\n",
       "      <td>732</td>\n",
       "      <td>2</td>\n",
       "      <td>5.00</td>\n",
       "    </tr>\n",
       "    <tr>\n",
       "      <th>2</th>\n",
       "      <td>347</td>\n",
       "      <td>2</td>\n",
       "      <td>5.00</td>\n",
       "    </tr>\n",
       "    <tr>\n",
       "      <th>3</th>\n",
       "      <td>610</td>\n",
       "      <td>2</td>\n",
       "      <td>5.00</td>\n",
       "    </tr>\n",
       "    <tr>\n",
       "      <th>4</th>\n",
       "      <td>330</td>\n",
       "      <td>1</td>\n",
       "      <td>5.00</td>\n",
       "    </tr>\n",
       "    <tr>\n",
       "      <th>...</th>\n",
       "      <td>...</td>\n",
       "      <td>...</td>\n",
       "      <td>...</td>\n",
       "    </tr>\n",
       "    <tr>\n",
       "      <th>995</th>\n",
       "      <td>915</td>\n",
       "      <td>3</td>\n",
       "      <td>2.25</td>\n",
       "    </tr>\n",
       "    <tr>\n",
       "      <th>996</th>\n",
       "      <td>371</td>\n",
       "      <td>2</td>\n",
       "      <td>2.00</td>\n",
       "    </tr>\n",
       "    <tr>\n",
       "      <th>997</th>\n",
       "      <td>316</td>\n",
       "      <td>2</td>\n",
       "      <td>2.00</td>\n",
       "    </tr>\n",
       "    <tr>\n",
       "      <th>998</th>\n",
       "      <td>202</td>\n",
       "      <td>3</td>\n",
       "      <td>2.00</td>\n",
       "    </tr>\n",
       "    <tr>\n",
       "      <th>999</th>\n",
       "      <td>303</td>\n",
       "      <td>2</td>\n",
       "      <td>1.50</td>\n",
       "    </tr>\n",
       "  </tbody>\n",
       "</table>\n",
       "<p>1000 rows × 3 columns</p>\n",
       "</div>"
      ],
      "text/plain": [
       "     book_id  total_reviews  mean_rating\n",
       "0        518              2         5.00\n",
       "1        732              2         5.00\n",
       "2        347              2         5.00\n",
       "3        610              2         5.00\n",
       "4        330              1         5.00\n",
       "..       ...            ...          ...\n",
       "995      915              3         2.25\n",
       "996      371              2         2.00\n",
       "997      316              2         2.00\n",
       "998      202              3         2.00\n",
       "999      303              2         1.50\n",
       "\n",
       "[1000 rows x 3 columns]"
      ]
     },
     "execution_count": 16,
     "metadata": {},
     "output_type": "execute_result"
    }
   ],
   "source": [
    "query = '''\n",
    "SELECT\n",
    "     ratings.book_id AS book_id,\n",
    "     COUNT(reviews.text) AS total_reviews,\n",
    "     AVG(ratings.rating) AS mean_rating\n",
    "FROM\n",
    "     ratings\n",
    "LEFT JOIN reviews ON \n",
    "        (reviews.book_id = ratings.book_id\n",
    "            AND reviews.username = ratings.username)\n",
    "GROUP BY \n",
    "     ratings.book_id\n",
    "ORDER BY \n",
    "     mean_rating DESC\n",
    "'''\n",
    "pd.io.sql.read_sql(query, con = engine)"
   ]
  },
  {
   "cell_type": "markdown",
   "metadata": {},
   "source": [
    "**Вывод:** Максимальный рейтинг 5.\t"
   ]
  },
  {
   "cell_type": "markdown",
   "metadata": {},
   "source": [
    "### Определим издательство, которое выпустило наибольшее число книг толще 50 страниц — так мы исключим из анализа брошюры"
   ]
  },
  {
   "cell_type": "code",
   "execution_count": 17,
   "metadata": {},
   "outputs": [],
   "source": [
    "query = '''\n",
    "SELECT\n",
    "     p.publisher AS publisher_name,\n",
    "     COUNT(Sub_b.book_id) AS books_count\n",
    "FROM\n",
    "    publishers p\n",
    "LEFT JOIN (SELECT *\n",
    "           FROM\n",
    "           books b\n",
    "           WHERE\n",
    "              b.num_pages > 50) AS Sub_b\n",
    "ON Sub_b.publisher_id = p.publisher_id\n",
    "GROUP BY\n",
    "      p.publisher\n",
    "ORDER BY\n",
    "COUNT(Sub_b.book_id) DESC;\n",
    "          '''"
   ]
  },
  {
   "cell_type": "code",
   "execution_count": 18,
   "metadata": {},
   "outputs": [
    {
     "data": {
      "text/html": [
       "<div>\n",
       "<style scoped>\n",
       "    .dataframe tbody tr th:only-of-type {\n",
       "        vertical-align: middle;\n",
       "    }\n",
       "\n",
       "    .dataframe tbody tr th {\n",
       "        vertical-align: top;\n",
       "    }\n",
       "\n",
       "    .dataframe thead th {\n",
       "        text-align: right;\n",
       "    }\n",
       "</style>\n",
       "<table border=\"1\" class=\"dataframe\">\n",
       "  <thead>\n",
       "    <tr style=\"text-align: right;\">\n",
       "      <th></th>\n",
       "      <th>publisher_name</th>\n",
       "      <th>books_count</th>\n",
       "    </tr>\n",
       "  </thead>\n",
       "  <tbody>\n",
       "    <tr>\n",
       "      <th>0</th>\n",
       "      <td>Penguin Books</td>\n",
       "      <td>42</td>\n",
       "    </tr>\n",
       "    <tr>\n",
       "      <th>1</th>\n",
       "      <td>Vintage</td>\n",
       "      <td>31</td>\n",
       "    </tr>\n",
       "    <tr>\n",
       "      <th>2</th>\n",
       "      <td>Grand Central Publishing</td>\n",
       "      <td>25</td>\n",
       "    </tr>\n",
       "    <tr>\n",
       "      <th>3</th>\n",
       "      <td>Penguin Classics</td>\n",
       "      <td>24</td>\n",
       "    </tr>\n",
       "    <tr>\n",
       "      <th>4</th>\n",
       "      <td>Bantam</td>\n",
       "      <td>19</td>\n",
       "    </tr>\n",
       "    <tr>\n",
       "      <th>...</th>\n",
       "      <td>...</td>\n",
       "      <td>...</td>\n",
       "    </tr>\n",
       "    <tr>\n",
       "      <th>335</th>\n",
       "      <td>Simon &amp; Schuster Childrens Books</td>\n",
       "      <td>0</td>\n",
       "    </tr>\n",
       "    <tr>\n",
       "      <th>336</th>\n",
       "      <td>Atheneum Books for Young Readers</td>\n",
       "      <td>0</td>\n",
       "    </tr>\n",
       "    <tr>\n",
       "      <th>337</th>\n",
       "      <td>Tanglewood</td>\n",
       "      <td>0</td>\n",
       "    </tr>\n",
       "    <tr>\n",
       "      <th>338</th>\n",
       "      <td>Golden Books</td>\n",
       "      <td>0</td>\n",
       "    </tr>\n",
       "    <tr>\n",
       "      <th>339</th>\n",
       "      <td>Golden/Disney</td>\n",
       "      <td>0</td>\n",
       "    </tr>\n",
       "  </tbody>\n",
       "</table>\n",
       "<p>340 rows × 2 columns</p>\n",
       "</div>"
      ],
      "text/plain": [
       "                       publisher_name  books_count\n",
       "0                       Penguin Books           42\n",
       "1                             Vintage           31\n",
       "2            Grand Central Publishing           25\n",
       "3                    Penguin Classics           24\n",
       "4                              Bantam           19\n",
       "..                                ...          ...\n",
       "335  Simon & Schuster Childrens Books            0\n",
       "336  Atheneum Books for Young Readers            0\n",
       "337                        Tanglewood            0\n",
       "338                      Golden Books            0\n",
       "339                     Golden/Disney            0\n",
       "\n",
       "[340 rows x 2 columns]"
      ]
     },
     "execution_count": 18,
     "metadata": {},
     "output_type": "execute_result"
    }
   ],
   "source": [
    "pd.io.sql.read_sql(query, con = engine)"
   ]
  },
  {
   "cell_type": "markdown",
   "metadata": {},
   "source": [
    "Издательство `Penguin Books` выпустило самое большое количество книг"
   ]
  },
  {
   "cell_type": "markdown",
   "metadata": {},
   "source": [
    "### Определим автора с самой высокой средней оценкой книг — учитываем только книги с 50 и более оценками"
   ]
  },
  {
   "cell_type": "code",
   "execution_count": 19,
   "metadata": {},
   "outputs": [],
   "source": [
    "query = '''\n",
    "SELECT\n",
    "    authors.author,\n",
    "    AVG(subquery_ratings.avg_rating) AS avg_rating\n",
    "FROM\n",
    "    books\n",
    "LEFT JOIN (\n",
    "           SELECT \n",
    "                book_id,\n",
    "                AVG(rating) AS avg_rating,\n",
    "                COUNT(rating_id) AS rating_count\n",
    "           FROM\n",
    "                ratings\n",
    "           GROUP BY\n",
    "                book_id\n",
    "           ) AS subquery_ratings ON subquery_ratings.book_id = books.book_id\n",
    "LEFT JOIN authors ON authors.author_id = books.author_id\n",
    "WHERE\n",
    "    rating_count >= 50\n",
    "GROUP BY\n",
    "    author\n",
    "ORDER BY\n",
    "    avg_rating DESC\n",
    "LIMIT 1\n",
    "'''"
   ]
  },
  {
   "cell_type": "code",
   "execution_count": 20,
   "metadata": {},
   "outputs": [
    {
     "data": {
      "text/html": [
       "<div>\n",
       "<style scoped>\n",
       "    .dataframe tbody tr th:only-of-type {\n",
       "        vertical-align: middle;\n",
       "    }\n",
       "\n",
       "    .dataframe tbody tr th {\n",
       "        vertical-align: top;\n",
       "    }\n",
       "\n",
       "    .dataframe thead th {\n",
       "        text-align: right;\n",
       "    }\n",
       "</style>\n",
       "<table border=\"1\" class=\"dataframe\">\n",
       "  <thead>\n",
       "    <tr style=\"text-align: right;\">\n",
       "      <th></th>\n",
       "      <th>author</th>\n",
       "      <th>avg_rating</th>\n",
       "    </tr>\n",
       "  </thead>\n",
       "  <tbody>\n",
       "    <tr>\n",
       "      <th>0</th>\n",
       "      <td>J.K. Rowling/Mary GrandPré</td>\n",
       "      <td>4.283844</td>\n",
       "    </tr>\n",
       "  </tbody>\n",
       "</table>\n",
       "</div>"
      ],
      "text/plain": [
       "                       author  avg_rating\n",
       "0  J.K. Rowling/Mary GrandPré    4.283844"
      ]
     },
     "execution_count": 20,
     "metadata": {},
     "output_type": "execute_result"
    }
   ],
   "source": [
    "pd.io.sql.read_sql(query, con = engine)"
   ]
  },
  {
   "cell_type": "markdown",
   "metadata": {},
   "source": [
    "**Вывод:** Не один, а соавторы J.K Rowling/Mary GrandPré получили самый высокий средний рейтинг."
   ]
  },
  {
   "cell_type": "markdown",
   "metadata": {},
   "source": [
    "### Посчитаем среднее количество обзоров от пользователей, которые поставили больше 50 оценок."
   ]
  },
  {
   "cell_type": "code",
   "execution_count": 21,
   "metadata": {},
   "outputs": [],
   "source": [
    "query = '''              -- выведем среднее по количеству обзоров, округление выполним функцией round\n",
    "SELECT \n",
    "    round(avg(count)) AS rounded_avg_review    \n",
    "FROM\n",
    "    (SELECT\n",
    "        COUNT(text)\n",
    "    FROM \n",
    "        reviews\n",
    "    FULL OUTER JOIN (SELECT username, COUNT(rating_id) as cnt FROM ratings GROUP BY username) AS count_rating\n",
    "    ON count_rating.username = reviews.username where cnt > 50\n",
    "    GROUP BY reviews.username) as count;                                  \n",
    "'''"
   ]
  },
  {
   "cell_type": "code",
   "execution_count": 22,
   "metadata": {},
   "outputs": [
    {
     "data": {
      "text/html": [
       "<div>\n",
       "<style scoped>\n",
       "    .dataframe tbody tr th:only-of-type {\n",
       "        vertical-align: middle;\n",
       "    }\n",
       "\n",
       "    .dataframe tbody tr th {\n",
       "        vertical-align: top;\n",
       "    }\n",
       "\n",
       "    .dataframe thead th {\n",
       "        text-align: right;\n",
       "    }\n",
       "</style>\n",
       "<table border=\"1\" class=\"dataframe\">\n",
       "  <thead>\n",
       "    <tr style=\"text-align: right;\">\n",
       "      <th></th>\n",
       "      <th>rounded_avg_review</th>\n",
       "    </tr>\n",
       "  </thead>\n",
       "  <tbody>\n",
       "    <tr>\n",
       "      <th>0</th>\n",
       "      <td>24.0</td>\n",
       "    </tr>\n",
       "  </tbody>\n",
       "</table>\n",
       "</div>"
      ],
      "text/plain": [
       "   rounded_avg_review\n",
       "0                24.0"
      ]
     },
     "execution_count": 22,
     "metadata": {},
     "output_type": "execute_result"
    }
   ],
   "source": [
    "pd.io.sql.read_sql(query, con = engine)"
   ]
  },
  {
   "cell_type": "markdown",
   "metadata": {},
   "source": [
    "**Вывод:** Получилось среднее количество обзоров - 24 от пользователей, которые поставили больше 50 оценок."
   ]
  },
  {
   "cell_type": "markdown",
   "metadata": {},
   "source": [
    "## Чек лист готовности"
   ]
  },
  {
   "cell_type": "markdown",
   "metadata": {},
   "source": [
    "- [x]  Описаны данные\n",
    "- [x]  Загружены библиотека\n",
    "- [x]  Подключение к базе данных\n",
    "- [x]  Выполнены SQL запросы и осмотрены данные  \n",
    "- [x]  Выполнены задания:\n",
    "- [x]    -посчитано, сколько книг вышло после 1 января 2000 года?\n",
    "- [x]    -для каждой книги посчитано количество обзоров и среднюю оценку\n",
    "- [x]    -определено издательство, которое выпустило наибольшее число книг толще 50 страниц — так мы исключили из анализа брошюры\n",
    "- [x]    -определены авторы с самой высокой средней оценкой книг — учитывали только книги с 50 и более оценками\n",
    "- [x]    -посчитано среднее количество обзоров от пользователей, которые поставили больше 50 оценок \n",
    "- [x] Сделаны выводы"
   ]
  }
 ],
 "metadata": {
  "ExecuteTimeLog": [
   {
    "duration": 482,
    "start_time": "2022-09-09T21:57:24.760Z"
   },
   {
    "duration": 5289,
    "start_time": "2022-09-09T21:58:31.589Z"
   },
   {
    "duration": 65,
    "start_time": "2022-09-09T22:00:33.725Z"
   },
   {
    "duration": 2,
    "start_time": "2022-09-09T22:00:59.958Z"
   },
   {
    "duration": 301,
    "start_time": "2022-09-09T22:01:00.621Z"
   },
   {
    "duration": 3,
    "start_time": "2022-09-09T22:10:00.839Z"
   },
   {
    "duration": 84,
    "start_time": "2022-09-09T22:10:12.204Z"
   },
   {
    "duration": 2,
    "start_time": "2022-09-09T22:10:38.187Z"
   },
   {
    "duration": 73,
    "start_time": "2022-09-09T22:10:45.724Z"
   },
   {
    "duration": 3,
    "start_time": "2022-09-09T22:11:09.363Z"
   },
   {
    "duration": 141,
    "start_time": "2022-09-09T22:11:17.266Z"
   },
   {
    "duration": 3,
    "start_time": "2022-09-09T22:11:48.899Z"
   },
   {
    "duration": 119,
    "start_time": "2022-09-09T22:12:03.026Z"
   },
   {
    "duration": 3,
    "start_time": "2022-09-09T22:34:34.083Z"
   },
   {
    "duration": 70,
    "start_time": "2022-09-09T22:35:08.750Z"
   },
   {
    "duration": 2,
    "start_time": "2022-09-09T22:35:23.274Z"
   },
   {
    "duration": 70,
    "start_time": "2022-09-09T22:35:23.936Z"
   },
   {
    "duration": 3,
    "start_time": "2022-09-09T22:52:49.887Z"
   },
   {
    "duration": 125,
    "start_time": "2022-09-09T22:53:13.788Z"
   },
   {
    "duration": 2,
    "start_time": "2022-09-09T22:56:03.872Z"
   },
   {
    "duration": 130,
    "start_time": "2022-09-09T22:56:04.546Z"
   },
   {
    "duration": 3,
    "start_time": "2022-09-09T23:05:58.547Z"
   },
   {
    "duration": 76,
    "start_time": "2022-09-09T23:06:07.042Z"
   },
   {
    "duration": 3,
    "start_time": "2022-09-09T23:06:26.490Z"
   },
   {
    "duration": 138,
    "start_time": "2022-09-09T23:06:27.146Z"
   },
   {
    "duration": 3,
    "start_time": "2022-09-09T23:06:52.753Z"
   },
   {
    "duration": 98,
    "start_time": "2022-09-09T23:06:54.427Z"
   },
   {
    "duration": 3,
    "start_time": "2022-09-09T23:09:12.347Z"
   },
   {
    "duration": 70,
    "start_time": "2022-09-09T23:09:13.082Z"
   },
   {
    "duration": 2,
    "start_time": "2022-09-09T23:12:39.697Z"
   },
   {
    "duration": 72,
    "start_time": "2022-09-09T23:12:40.392Z"
   },
   {
    "duration": 74,
    "start_time": "2022-09-09T23:14:44.848Z"
   },
   {
    "duration": 2,
    "start_time": "2022-09-09T23:17:18.121Z"
   },
   {
    "duration": 71,
    "start_time": "2022-09-09T23:17:19.235Z"
   },
   {
    "duration": 2,
    "start_time": "2022-09-09T23:23:52.033Z"
   },
   {
    "duration": 74,
    "start_time": "2022-09-09T23:23:52.935Z"
   },
   {
    "duration": 2,
    "start_time": "2022-09-09T23:29:00.555Z"
   },
   {
    "duration": 74,
    "start_time": "2022-09-09T23:29:01.056Z"
   },
   {
    "duration": 3,
    "start_time": "2022-09-09T23:31:35.411Z"
   },
   {
    "duration": 74,
    "start_time": "2022-09-09T23:31:36.394Z"
   },
   {
    "duration": 2,
    "start_time": "2022-09-09T23:36:56.739Z"
   },
   {
    "duration": 128,
    "start_time": "2022-09-09T23:36:57.323Z"
   },
   {
    "duration": 2,
    "start_time": "2022-09-09T23:37:23.691Z"
   },
   {
    "duration": 72,
    "start_time": "2022-09-09T23:37:24.130Z"
   },
   {
    "duration": 2,
    "start_time": "2022-09-09T23:42:18.090Z"
   },
   {
    "duration": 72,
    "start_time": "2022-09-09T23:42:18.990Z"
   },
   {
    "duration": 498,
    "start_time": "2022-09-09T23:42:45.224Z"
   },
   {
    "duration": 4804,
    "start_time": "2022-09-09T23:42:45.724Z"
   },
   {
    "duration": 3,
    "start_time": "2022-09-09T23:42:50.529Z"
   },
   {
    "duration": 273,
    "start_time": "2022-09-09T23:42:50.533Z"
   },
   {
    "duration": 2,
    "start_time": "2022-09-09T23:42:50.809Z"
   },
   {
    "duration": 78,
    "start_time": "2022-09-09T23:42:50.812Z"
   },
   {
    "duration": 3,
    "start_time": "2022-09-09T23:42:50.891Z"
   },
   {
    "duration": 74,
    "start_time": "2022-09-09T23:42:50.896Z"
   },
   {
    "duration": 2,
    "start_time": "2022-09-09T23:42:50.971Z"
   },
   {
    "duration": 97,
    "start_time": "2022-09-09T23:42:50.975Z"
   },
   {
    "duration": 3,
    "start_time": "2022-09-09T23:42:51.074Z"
   },
   {
    "duration": 97,
    "start_time": "2022-09-09T23:42:51.078Z"
   },
   {
    "duration": 3,
    "start_time": "2022-09-09T23:42:51.177Z"
   },
   {
    "duration": 72,
    "start_time": "2022-09-09T23:42:51.183Z"
   },
   {
    "duration": 2,
    "start_time": "2022-09-09T23:42:51.257Z"
   },
   {
    "duration": 103,
    "start_time": "2022-09-09T23:42:51.261Z"
   },
   {
    "duration": 2,
    "start_time": "2022-09-09T23:42:51.366Z"
   },
   {
    "duration": 71,
    "start_time": "2022-09-09T23:42:51.370Z"
   },
   {
    "duration": 2,
    "start_time": "2022-09-09T23:42:51.443Z"
   },
   {
    "duration": 73,
    "start_time": "2022-09-09T23:42:51.447Z"
   },
   {
    "duration": 2,
    "start_time": "2022-09-09T23:42:51.522Z"
   },
   {
    "duration": 73,
    "start_time": "2022-09-09T23:42:51.525Z"
   },
   {
    "duration": 8,
    "start_time": "2022-09-10T08:22:20.226Z"
   },
   {
    "duration": 43,
    "start_time": "2022-09-10T08:22:22.258Z"
   },
   {
    "duration": 503,
    "start_time": "2022-09-10T08:22:36.712Z"
   },
   {
    "duration": 4812,
    "start_time": "2022-09-10T08:22:37.217Z"
   },
   {
    "duration": 2,
    "start_time": "2022-09-10T08:22:42.031Z"
   },
   {
    "duration": 291,
    "start_time": "2022-09-10T08:22:42.035Z"
   },
   {
    "duration": 2,
    "start_time": "2022-09-10T08:22:42.328Z"
   },
   {
    "duration": 78,
    "start_time": "2022-09-10T08:22:42.332Z"
   },
   {
    "duration": 2,
    "start_time": "2022-09-10T08:22:42.412Z"
   },
   {
    "duration": 79,
    "start_time": "2022-09-10T08:22:42.415Z"
   },
   {
    "duration": 2,
    "start_time": "2022-09-10T08:22:42.496Z"
   },
   {
    "duration": 101,
    "start_time": "2022-09-10T08:22:42.500Z"
   },
   {
    "duration": 3,
    "start_time": "2022-09-10T08:22:42.602Z"
   },
   {
    "duration": 95,
    "start_time": "2022-09-10T08:22:42.606Z"
   },
   {
    "duration": 2,
    "start_time": "2022-09-10T08:22:42.703Z"
   },
   {
    "duration": 77,
    "start_time": "2022-09-10T08:22:42.707Z"
   },
   {
    "duration": 2,
    "start_time": "2022-09-10T08:22:42.786Z"
   },
   {
    "duration": 114,
    "start_time": "2022-09-10T08:22:42.790Z"
   },
   {
    "duration": 3,
    "start_time": "2022-09-10T08:22:42.906Z"
   },
   {
    "duration": 74,
    "start_time": "2022-09-10T08:22:42.911Z"
   },
   {
    "duration": 3,
    "start_time": "2022-09-10T08:22:42.987Z"
   },
   {
    "duration": 79,
    "start_time": "2022-09-10T08:22:42.992Z"
   },
   {
    "duration": 3,
    "start_time": "2022-09-10T08:22:43.073Z"
   },
   {
    "duration": 79,
    "start_time": "2022-09-10T08:22:43.077Z"
   },
   {
    "duration": 3,
    "start_time": "2022-09-10T08:23:39.401Z"
   },
   {
    "duration": 72,
    "start_time": "2022-09-10T08:23:40.457Z"
   },
   {
    "duration": 102,
    "start_time": "2022-09-10T08:52:16.721Z"
   },
   {
    "duration": 99,
    "start_time": "2022-09-10T08:53:51.637Z"
   },
   {
    "duration": 104,
    "start_time": "2022-09-10T08:54:22.073Z"
   },
   {
    "duration": 104,
    "start_time": "2022-09-10T08:56:14.592Z"
   },
   {
    "duration": 516,
    "start_time": "2022-09-10T09:03:40.045Z"
   },
   {
    "duration": 5095,
    "start_time": "2022-09-10T09:03:40.564Z"
   },
   {
    "duration": 2,
    "start_time": "2022-09-10T09:03:45.661Z"
   },
   {
    "duration": 269,
    "start_time": "2022-09-10T09:03:45.665Z"
   },
   {
    "duration": 3,
    "start_time": "2022-09-10T09:03:45.936Z"
   },
   {
    "duration": 81,
    "start_time": "2022-09-10T09:03:45.941Z"
   },
   {
    "duration": 3,
    "start_time": "2022-09-10T09:03:46.024Z"
   },
   {
    "duration": 77,
    "start_time": "2022-09-10T09:03:46.028Z"
   },
   {
    "duration": 2,
    "start_time": "2022-09-10T09:03:46.107Z"
   },
   {
    "duration": 97,
    "start_time": "2022-09-10T09:03:46.111Z"
   },
   {
    "duration": 3,
    "start_time": "2022-09-10T09:03:46.210Z"
   },
   {
    "duration": 95,
    "start_time": "2022-09-10T09:03:46.214Z"
   },
   {
    "duration": 2,
    "start_time": "2022-09-10T09:03:46.311Z"
   },
   {
    "duration": 74,
    "start_time": "2022-09-10T09:03:46.314Z"
   },
   {
    "duration": 81,
    "start_time": "2022-09-10T09:03:46.389Z"
   },
   {
    "duration": 80,
    "start_time": "2022-09-10T09:03:46.472Z"
   },
   {
    "duration": 3,
    "start_time": "2022-09-10T09:03:46.554Z"
   },
   {
    "duration": 76,
    "start_time": "2022-09-10T09:03:46.558Z"
   },
   {
    "duration": 3,
    "start_time": "2022-09-10T09:03:46.635Z"
   },
   {
    "duration": 80,
    "start_time": "2022-09-10T09:03:46.640Z"
   },
   {
    "duration": 3,
    "start_time": "2022-09-10T09:03:46.722Z"
   },
   {
    "duration": 77,
    "start_time": "2022-09-10T09:03:46.726Z"
   },
   {
    "duration": 101,
    "start_time": "2022-09-10T09:05:42.341Z"
   },
   {
    "duration": 98,
    "start_time": "2022-09-10T09:06:52.179Z"
   },
   {
    "duration": 3,
    "start_time": "2022-09-10T09:06:52.279Z"
   },
   {
    "duration": 85,
    "start_time": "2022-09-10T09:06:52.283Z"
   },
   {
    "duration": 2,
    "start_time": "2022-09-10T09:06:52.370Z"
   },
   {
    "duration": 78,
    "start_time": "2022-09-10T09:06:52.374Z"
   },
   {
    "duration": 2,
    "start_time": "2022-09-10T09:06:52.454Z"
   },
   {
    "duration": 75,
    "start_time": "2022-09-10T09:06:52.458Z"
   },
   {
    "duration": 546,
    "start_time": "2022-09-10T09:07:06.795Z"
   },
   {
    "duration": 5476,
    "start_time": "2022-09-10T09:07:07.343Z"
   },
   {
    "duration": 3,
    "start_time": "2022-09-10T09:07:12.820Z"
   },
   {
    "duration": 267,
    "start_time": "2022-09-10T09:07:12.824Z"
   },
   {
    "duration": 2,
    "start_time": "2022-09-10T09:07:13.094Z"
   },
   {
    "duration": 79,
    "start_time": "2022-09-10T09:07:13.097Z"
   },
   {
    "duration": 2,
    "start_time": "2022-09-10T09:07:13.177Z"
   },
   {
    "duration": 76,
    "start_time": "2022-09-10T09:07:13.180Z"
   },
   {
    "duration": 3,
    "start_time": "2022-09-10T09:07:13.257Z"
   },
   {
    "duration": 99,
    "start_time": "2022-09-10T09:07:13.261Z"
   },
   {
    "duration": 2,
    "start_time": "2022-09-10T09:07:13.362Z"
   },
   {
    "duration": 93,
    "start_time": "2022-09-10T09:07:13.365Z"
   },
   {
    "duration": 3,
    "start_time": "2022-09-10T09:07:13.459Z"
   },
   {
    "duration": 73,
    "start_time": "2022-09-10T09:07:13.464Z"
   },
   {
    "duration": 80,
    "start_time": "2022-09-10T09:07:13.538Z"
   },
   {
    "duration": 80,
    "start_time": "2022-09-10T09:07:13.620Z"
   },
   {
    "duration": 3,
    "start_time": "2022-09-10T09:07:13.702Z"
   },
   {
    "duration": 78,
    "start_time": "2022-09-10T09:07:13.706Z"
   },
   {
    "duration": 2,
    "start_time": "2022-09-10T09:07:13.786Z"
   },
   {
    "duration": 76,
    "start_time": "2022-09-10T09:07:13.789Z"
   },
   {
    "duration": 3,
    "start_time": "2022-09-10T09:07:13.866Z"
   },
   {
    "duration": 74,
    "start_time": "2022-09-10T09:07:13.871Z"
   },
   {
    "duration": 8,
    "start_time": "2022-09-13T18:24:15.173Z"
   },
   {
    "duration": 3,
    "start_time": "2022-09-13T18:27:01.208Z"
   }
  ],
  "kernelspec": {
   "display_name": "Python 3 (ipykernel)",
   "language": "python",
   "name": "python3"
  },
  "language_info": {
   "codemirror_mode": {
    "name": "ipython",
    "version": 3
   },
   "file_extension": ".py",
   "mimetype": "text/x-python",
   "name": "python",
   "nbconvert_exporter": "python",
   "pygments_lexer": "ipython3",
   "version": "3.9.7"
  },
  "toc": {
   "base_numbering": 1,
   "nav_menu": {},
   "number_sections": true,
   "sideBar": true,
   "skip_h1_title": true,
   "title_cell": "Table of Contents",
   "title_sidebar": "Contents",
   "toc_cell": false,
   "toc_position": {
    "height": "calc(100% - 180px)",
    "left": "10px",
    "top": "150px",
    "width": "246.438px"
   },
   "toc_section_display": true,
   "toc_window_display": true
  }
 },
 "nbformat": 4,
 "nbformat_minor": 2
}
